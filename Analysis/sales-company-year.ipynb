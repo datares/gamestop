{
 "cells": [
  {
   "cell_type": "code",
   "execution_count": 1,
   "metadata": {},
   "outputs": [
    {
     "data": {
      "text/plain": [
       "'\\nThis analysis analyze the amount of video sales for each company company over the years.\\n'"
      ]
     },
     "execution_count": 1,
     "metadata": {},
     "output_type": "execute_result"
    }
   ],
   "source": [
    "'''\n",
    "This analysis analyze the amount of video sales for each company company over the years.\n",
    "'''"
   ]
  },
  {
   "cell_type": "code",
   "execution_count": 2,
   "metadata": {},
   "outputs": [],
   "source": [
    "import numpy as np\n",
    "import pandas as pd\n",
    "import matplotlib.pyplot as plt\n",
    "import os\n",
    "ROOT_DIR = \"../Datasets\"\n",
    "\n",
    "ds_path = os.path.join(ROOT_DIR, \"vgsales-12-4-2019-short.csv\")\n",
    "df = pd.read_csv(ds_path)"
   ]
  },
  {
   "cell_type": "code",
   "execution_count": 3,
   "metadata": {},
   "outputs": [
    {
     "name": "stdout",
     "output_type": "stream",
     "text": [
      "<class 'pandas.core.frame.DataFrame'>\n",
      "RangeIndex: 55792 entries, 0 to 55791\n",
      "Data columns (total 16 columns):\n",
      " #   Column         Non-Null Count  Dtype  \n",
      "---  ------         --------------  -----  \n",
      " 0   Rank           55792 non-null  int64  \n",
      " 1   Name           55792 non-null  object \n",
      " 2   Genre          55792 non-null  object \n",
      " 3   ESRB_Rating    23623 non-null  object \n",
      " 4   Platform       55792 non-null  object \n",
      " 5   Publisher      55792 non-null  object \n",
      " 6   Developer      55775 non-null  object \n",
      " 7   Critic_Score   6536 non-null   float64\n",
      " 8   User_Score     335 non-null    float64\n",
      " 9   Total_Shipped  1827 non-null   float64\n",
      " 10  Global_Sales   19415 non-null  float64\n",
      " 11  NA_Sales       12964 non-null  float64\n",
      " 12  PAL_Sales      13189 non-null  float64\n",
      " 13  JP_Sales       7043 non-null   float64\n",
      " 14  Other_Sales    15522 non-null  float64\n",
      " 15  Year           54813 non-null  float64\n",
      "dtypes: float64(9), int64(1), object(6)\n",
      "memory usage: 6.8+ MB\n"
     ]
    }
   ],
   "source": [
    "df.info()"
   ]
  },
  {
   "cell_type": "code",
   "execution_count": 4,
   "metadata": {},
   "outputs": [
    {
     "data": {
      "text/html": [
       "<div>\n",
       "<style scoped>\n",
       "    .dataframe tbody tr th:only-of-type {\n",
       "        vertical-align: middle;\n",
       "    }\n",
       "\n",
       "    .dataframe tbody tr th {\n",
       "        vertical-align: top;\n",
       "    }\n",
       "\n",
       "    .dataframe thead th {\n",
       "        text-align: right;\n",
       "    }\n",
       "</style>\n",
       "<table border=\"1\" class=\"dataframe\">\n",
       "  <thead>\n",
       "    <tr style=\"text-align: right;\">\n",
       "      <th></th>\n",
       "      <th>Publisher</th>\n",
       "      <th>Year</th>\n",
       "    </tr>\n",
       "  </thead>\n",
       "  <tbody>\n",
       "    <tr>\n",
       "      <th>0</th>\n",
       "      <td>Nintendo</td>\n",
       "      <td>2006.0</td>\n",
       "    </tr>\n",
       "    <tr>\n",
       "      <th>1</th>\n",
       "      <td>Nintendo</td>\n",
       "      <td>1985.0</td>\n",
       "    </tr>\n",
       "    <tr>\n",
       "      <th>2</th>\n",
       "      <td>Nintendo</td>\n",
       "      <td>2008.0</td>\n",
       "    </tr>\n",
       "    <tr>\n",
       "      <th>3</th>\n",
       "      <td>PUBG Corporation</td>\n",
       "      <td>2017.0</td>\n",
       "    </tr>\n",
       "    <tr>\n",
       "      <th>4</th>\n",
       "      <td>Nintendo</td>\n",
       "      <td>2009.0</td>\n",
       "    </tr>\n",
       "    <tr>\n",
       "      <th>...</th>\n",
       "      <td>...</td>\n",
       "      <td>...</td>\n",
       "    </tr>\n",
       "    <tr>\n",
       "      <th>55787</th>\n",
       "      <td>505 Games</td>\n",
       "      <td>2019.0</td>\n",
       "    </tr>\n",
       "    <tr>\n",
       "      <th>55788</th>\n",
       "      <td>Mooneye Studios</td>\n",
       "      <td>2019.0</td>\n",
       "    </tr>\n",
       "    <tr>\n",
       "      <th>55789</th>\n",
       "      <td>Mooneye Studios</td>\n",
       "      <td>2019.0</td>\n",
       "    </tr>\n",
       "    <tr>\n",
       "      <th>55790</th>\n",
       "      <td>Mooneye Studios</td>\n",
       "      <td>2019.0</td>\n",
       "    </tr>\n",
       "    <tr>\n",
       "      <th>55791</th>\n",
       "      <td>Unknown</td>\n",
       "      <td>NaN</td>\n",
       "    </tr>\n",
       "  </tbody>\n",
       "</table>\n",
       "<p>55792 rows × 2 columns</p>\n",
       "</div>"
      ],
      "text/plain": [
       "              Publisher    Year\n",
       "0              Nintendo  2006.0\n",
       "1              Nintendo  1985.0\n",
       "2              Nintendo  2008.0\n",
       "3      PUBG Corporation  2017.0\n",
       "4              Nintendo  2009.0\n",
       "...                 ...     ...\n",
       "55787         505 Games  2019.0\n",
       "55788   Mooneye Studios  2019.0\n",
       "55789   Mooneye Studios  2019.0\n",
       "55790   Mooneye Studios  2019.0\n",
       "55791           Unknown     NaN\n",
       "\n",
       "[55792 rows x 2 columns]"
      ]
     },
     "execution_count": 4,
     "metadata": {},
     "output_type": "execute_result"
    }
   ],
   "source": [
    "# only keep columns of interest \n",
    "df1 = df[['Publisher', 'Year']]\n",
    "df1"
   ]
  },
  {
   "cell_type": "code",
   "execution_count": 5,
   "metadata": {},
   "outputs": [
    {
     "data": {
      "text/plain": [
       "Publisher      0\n",
       "Year         979\n",
       "dtype: int64"
      ]
     },
     "execution_count": 5,
     "metadata": {},
     "output_type": "execute_result"
    }
   ],
   "source": [
    "# Check number of null values in ds\n",
    "df1.isnull().sum()"
   ]
  },
  {
   "cell_type": "code",
   "execution_count": 6,
   "metadata": {},
   "outputs": [
    {
     "data": {
      "text/plain": [
       "Publisher    0\n",
       "Year         0\n",
       "dtype: int64"
      ]
     },
     "execution_count": 6,
     "metadata": {},
     "output_type": "execute_result"
    }
   ],
   "source": [
    "# Drop the null values in year\n",
    "df1 = df1.dropna(axis=0, how='any')\n",
    "df1.isnull().sum()"
   ]
  },
  {
   "cell_type": "code",
   "execution_count": 7,
   "metadata": {},
   "outputs": [
    {
     "data": {
      "text/plain": [
       "array([2006, 1985, 2008, 2017, 2009, 1998, 1989, 2010, 2007, 2005, 2000,\n",
       "       1991, 2013, 2014, 2004, 2011, 1990, 2003, 2002, 2016, 2015, 2001,\n",
       "       1999, 2018, 2012, 1996, 1992, 1993, 1997, 1994, 1982, 1988, 1987,\n",
       "       1995, 1981, 1986, 1978, 1983, 2020, 1984, 1977, 2019, 1980, 1970,\n",
       "       1979, 1975, 1973])"
      ]
     },
     "execution_count": 7,
     "metadata": {},
     "output_type": "execute_result"
    }
   ],
   "source": [
    "# Convert Year to integer values\n",
    "df1 = df1.astype({\"Year\": int})\n",
    "df1.iloc[:,1].unique()"
   ]
  },
  {
   "cell_type": "code",
   "execution_count": 8,
   "metadata": {},
   "outputs": [
    {
     "data": {
      "text/html": [
       "<div>\n",
       "<style scoped>\n",
       "    .dataframe tbody tr th:only-of-type {\n",
       "        vertical-align: middle;\n",
       "    }\n",
       "\n",
       "    .dataframe tbody tr th {\n",
       "        vertical-align: top;\n",
       "    }\n",
       "\n",
       "    .dataframe thead th {\n",
       "        text-align: right;\n",
       "    }\n",
       "</style>\n",
       "<table border=\"1\" class=\"dataframe\">\n",
       "  <thead>\n",
       "    <tr style=\"text-align: right;\">\n",
       "      <th></th>\n",
       "      <th>Publisher</th>\n",
       "      <th>Year</th>\n",
       "    </tr>\n",
       "  </thead>\n",
       "  <tbody>\n",
       "    <tr>\n",
       "      <th>0</th>\n",
       "      <td>Nintendo</td>\n",
       "      <td>2006</td>\n",
       "    </tr>\n",
       "    <tr>\n",
       "      <th>1</th>\n",
       "      <td>Nintendo</td>\n",
       "      <td>1985</td>\n",
       "    </tr>\n",
       "    <tr>\n",
       "      <th>2</th>\n",
       "      <td>Nintendo</td>\n",
       "      <td>2008</td>\n",
       "    </tr>\n",
       "    <tr>\n",
       "      <th>3</th>\n",
       "      <td>PUBG Corporation</td>\n",
       "      <td>2017</td>\n",
       "    </tr>\n",
       "    <tr>\n",
       "      <th>4</th>\n",
       "      <td>Nintendo</td>\n",
       "      <td>2009</td>\n",
       "    </tr>\n",
       "    <tr>\n",
       "      <th>...</th>\n",
       "      <td>...</td>\n",
       "      <td>...</td>\n",
       "    </tr>\n",
       "    <tr>\n",
       "      <th>55786</th>\n",
       "      <td>Campo Santo</td>\n",
       "      <td>2019</td>\n",
       "    </tr>\n",
       "    <tr>\n",
       "      <th>55787</th>\n",
       "      <td>505 Games</td>\n",
       "      <td>2019</td>\n",
       "    </tr>\n",
       "    <tr>\n",
       "      <th>55788</th>\n",
       "      <td>Mooneye Studios</td>\n",
       "      <td>2019</td>\n",
       "    </tr>\n",
       "    <tr>\n",
       "      <th>55789</th>\n",
       "      <td>Mooneye Studios</td>\n",
       "      <td>2019</td>\n",
       "    </tr>\n",
       "    <tr>\n",
       "      <th>55790</th>\n",
       "      <td>Mooneye Studios</td>\n",
       "      <td>2019</td>\n",
       "    </tr>\n",
       "  </tbody>\n",
       "</table>\n",
       "<p>54813 rows × 2 columns</p>\n",
       "</div>"
      ],
      "text/plain": [
       "              Publisher  Year\n",
       "0              Nintendo  2006\n",
       "1              Nintendo  1985\n",
       "2              Nintendo  2008\n",
       "3      PUBG Corporation  2017\n",
       "4              Nintendo  2009\n",
       "...                 ...   ...\n",
       "55786      Campo Santo   2019\n",
       "55787         505 Games  2019\n",
       "55788   Mooneye Studios  2019\n",
       "55789   Mooneye Studios  2019\n",
       "55790   Mooneye Studios  2019\n",
       "\n",
       "[54813 rows x 2 columns]"
      ]
     },
     "execution_count": 8,
     "metadata": {},
     "output_type": "execute_result"
    }
   ],
   "source": [
    "df1"
   ]
  },
  {
   "cell_type": "code",
   "execution_count": 9,
   "metadata": {},
   "outputs": [
    {
     "data": {
      "text/plain": [
       "array([['Nintendo', 2006],\n",
       "       ['Nintendo', 1985],\n",
       "       ['Nintendo', 2008],\n",
       "       ...,\n",
       "       ['Mooneye Studios', 2019],\n",
       "       ['Mooneye Studios', 2019],\n",
       "       ['Mooneye Studios', 2019]], dtype=object)"
      ]
     },
     "execution_count": 9,
     "metadata": {},
     "output_type": "execute_result"
    }
   ],
   "source": [
    "df2 = df1.to_numpy()\n",
    "df2"
   ]
  },
  {
   "cell_type": "code",
   "execution_count": 10,
   "metadata": {},
   "outputs": [
    {
     "name": "stdout",
     "output_type": "stream",
     "text": [
      "Nintendo {2006: 78, 1985: 18, 2008: 61, 2009: 145, 1998: 24, 1989: 17, 2007: 93, 2005: 48, 2000: 31, 1991: 16, 2011: 58, 1990: 21, 2013: 37, 2003: 29, 2016: 33, 2017: 37, 1999: 25, 2014: 54, 2012: 36, 2010: 93, 2018: 32, 2004: 72, 1996: 23, 1992: 20, 1993: 18, 1997: 20, 1994: 22, 1988: 15, 2001: 28, 1987: 15, 2002: 25, 1995: 27, 2015: 35, 1986: 16, 1983: 2, 1984: 2, 2019: 23, 2020: 1, 1975: 1}\n",
      "\n",
      "\n",
      "Unknown {2004: 73, 2011: 529, 2010: 260, 2005: 66, 2015: 153, 2009: 239, 2016: 71, 1998: 50, 2013: 141, 2014: 555, 1997: 50, 2001: 72, 1983: 49, 1996: 45, 2020: 149, 2000: 65, 2008: 124, 1993: 46, 2006: 98, 2003: 69, 2007: 127, 1999: 47, 1992: 42, 2017: 59, 2002: 67, 2012: 101, 1980: 6, 1982: 40, 1970: 89, 1995: 73, 2018: 82, 1994: 57, 2019: 43, 1986: 13, 1989: 44, 1984: 10, 1990: 28, 1988: 13, 1987: 18, 1991: 34, 1981: 4, 1978: 4, 1985: 5, 1979: 2, 1977: 1, 1973: 1}\n",
      "\n",
      "\n",
      "Activision {2015: 42, 2011: 96, 2010: 106, 2012: 57, 2009: 161, 2017: 10, 2013: 47, 2007: 100, 2018: 14, 2016: 29, 2014: 51, 2008: 122, 1999: 25, 2000: 42, 1982: 11, 2002: 64, 2001: 54, 2003: 44, 2004: 73, 2006: 88, 2005: 92, 1998: 21, 1983: 25, 1981: 6, 1980: 5, 1987: 5, 1997: 17, 1988: 11, 1989: 15, 1985: 4, 1984: 16, 1996: 14, 1986: 5, 2020: 1, 1995: 10, 1993: 7, 1970: 1, 1992: 4, 1991: 2, 1990: 8, 1994: 8, 2019: 6}\n",
      "\n",
      "\n",
      "Sega {1991: 85, 1992: 80, 2008: 107, 2009: 97, 1993: 115, 2004: 60, 2007: 115, 2005: 66, 1990: 45, 1999: 39, 2011: 90, 2002: 60, 2016: 16, 1996: 74, 2010: 115, 1994: 106, 2000: 64, 2003: 39, 2006: 89, 2001: 46, 2012: 43, 1995: 108, 2013: 36, 2014: 39, 2017: 27, 1997: 48, 2015: 18, 1998: 36, 2018: 26, 1983: 11, 2019: 18, 1986: 26, 1988: 50, 1989: 47, 1987: 31, 2020: 5, 1984: 2, 1985: 4, 1982: 2}\n",
      "\n",
      "\n",
      "Sony Computer Entertainment {2001: 32, 2010: 168, 2005: 60, 1998: 34, 1997: 38, 1999: 39, 2011: 100, 1996: 37, 2009: 184, 2014: 46, 2008: 124, 2015: 37, 2007: 105, 2006: 78, 2003: 43, 2000: 41, 2002: 39, 2004: 26, 2013: 43, 2012: 41, 1995: 18, 2016: 14, 2020: 2, 2019: 1, 1994: 4}\n",
      "\n",
      "\n",
      "Electronic Arts {2016: 23, 2018: 27, 2015: 21, 2009: 175, 2011: 124, 2003: 62, 2004: 54, 2002: 58, 2017: 12, 2005: 69, 2014: 26, 2013: 26, 2006: 59, 2001: 30, 2007: 102, 2010: 156, 1999: 32, 1998: 24, 2012: 32, 2000: 29, 2008: 118, 1997: 29, 1995: 31, 1996: 33, 1991: 20, 1993: 35, 1994: 34, 1989: 5, 2019: 9, 1990: 10, 1992: 21, 2020: 3, 1986: 3, 1985: 1, 1988: 3, 1984: 1}\n",
      "\n",
      "\n",
      "Ubisoft {2011: 129, 2012: 56, 2009: 161, 2007: 117, 2010: 121, 2016: 49, 2015: 42, 2014: 71, 2017: 27, 2018: 34, 2013: 59, 1995: 4, 2002: 84, 2003: 68, 2004: 43, 2008: 131, 2005: 74, 2006: 86, 1999: 20, 2001: 46, 2000: 42, 2020: 5, 1997: 4, 1998: 7, 1996: 5, 1990: 2, 2019: 17, 1991: 2, 1992: 2, 1993: 7, 1994: 2, 1989: 1, 1970: 1}\n",
      "\n",
      "\n",
      "Konami {2001: 90, 1998: 52, 2008: 96, 2007: 96, 2004: 83, 2006: 92, 2005: 77, 2003: 108, 2010: 118, 2009: 104, 2011: 66, 2000: 81, 2002: 118, 1999: 59, 1992: 29, 1986: 5, 1997: 34, 1987: 10, 1988: 7, 1990: 12, 1996: 36, 1991: 17, 1995: 21, 2018: 7, 2012: 9, 1994: 25, 1993: 29, 2013: 1, 1989: 7, 1983: 1, 1982: 1, 1981: 1, 1985: 1, 2019: 1, 2014: 1}\n",
      "\n",
      "\n",
      "Microsoft {1996: 7, 2001: 14, 2002: 9, 2011: 232, 2008: 124, 2012: 2, 2003: 5, 2007: 13, 2009: 659, 2004: 6, 2005: 7, 2000: 10, 1999: 10, 2006: 6, 1997: 3, 2010: 146, 1981: 1, 1998: 6, 2013: 1, 1995: 3, 1993: 1, 1994: 2}\n",
      "\n",
      "\n",
      "THQ {2000: 35, 1998: 24, 2008: 82, 2002: 71, 2005: 88, 2004: 61, 2003: 81, 2001: 56, 2011: 108, 2006: 91, 2010: 78, 2007: 96, 2009: 99, 1997: 11, 1999: 19, 2012: 11, 1996: 6, 2020: 1, 1992: 19, 1991: 8, 2013: 2, 1995: 3, 1993: 13, 1994: 2}\n",
      "\n",
      "\n"
     ]
    }
   ],
   "source": [
    "# function that convert df1 to mydict = {publisher: {year:count, year2:count2, ...}}\n",
    "# total = {publisher, total count of all years}\n",
    "\n",
    "\n",
    "def conversion(df):\n",
    "    mydict = {}\n",
    "    total = {}\n",
    "    for i in range(len(df)):\n",
    "        publisher = df[i][0]\n",
    "        year = df[i][1]\n",
    "\n",
    "            \n",
    "        if publisher not in total:\n",
    "            total[publisher] = 1  \n",
    "        else: \n",
    "            total[publisher] += 1\n",
    "    \n",
    "    sorted_total = sorted(total.items(), key=lambda kv: kv[1], reverse=True)\n",
    "    sorted_total = dict(sorted_total[:10])\n",
    "    \n",
    "    for i in range(len(df)):\n",
    "        publisher = df[i][0]\n",
    "        year = df[i][1]\n",
    "        \n",
    "        \n",
    "        if publisher not in sorted_total: continue\n",
    "#         print(\"hey\")\n",
    "        if publisher not in mydict:\n",
    "            mydict[publisher] = {year: 1}\n",
    "        elif year not in mydict[publisher]:\n",
    "            mydict[publisher][year] = 1\n",
    "        else:\n",
    "            mydict[publisher][year] += 1\n",
    "        \n",
    "    return mydict, sorted_total\n",
    "\n",
    "df_dict, tot = conversion(df2)\n",
    "\n",
    "for k in df_dict:\n",
    "    print(k, df_dict[k])\n",
    "    print(\"\\n\")\n",
    "\n",
    "# print(type(tot))\n",
    "# print(tot.keys())\n",
    "            "
   ]
  },
  {
   "cell_type": "code",
   "execution_count": 11,
   "metadata": {},
   "outputs": [
    {
     "name": "stdout",
     "output_type": "stream",
     "text": [
      "Nintendo {1975: 1, 1983: 2, 1984: 2, 1985: 18, 1986: 16, 1987: 15, 1988: 15, 1989: 17, 1990: 21, 1991: 16, 1992: 20, 1993: 18, 1994: 22, 1995: 27, 1996: 23, 1997: 20, 1998: 24, 1999: 25, 2000: 31, 2001: 28, 2002: 25, 2003: 29, 2004: 72, 2005: 48, 2006: 78, 2007: 93, 2008: 61, 2009: 145, 2010: 93, 2011: 58, 2012: 36, 2013: 37, 2014: 54, 2015: 35, 2016: 33, 2017: 37, 2018: 32, 2019: 23, 2020: 1}\n",
      "\n",
      "\n",
      "Unknown {1970: 89, 1973: 1, 1977: 1, 1978: 4, 1979: 2, 1980: 6, 1981: 4, 1982: 40, 1983: 49, 1984: 10, 1985: 5, 1986: 13, 1987: 18, 1988: 13, 1989: 44, 1990: 28, 1991: 34, 1992: 42, 1993: 46, 1994: 57, 1995: 73, 1996: 45, 1997: 50, 1998: 50, 1999: 47, 2000: 65, 2001: 72, 2002: 67, 2003: 69, 2004: 73, 2005: 66, 2006: 98, 2007: 127, 2008: 124, 2009: 239, 2010: 260, 2011: 529, 2012: 101, 2013: 141, 2014: 555, 2015: 153, 2016: 71, 2017: 59, 2018: 82, 2019: 43, 2020: 149}\n",
      "\n",
      "\n",
      "Activision {1970: 1, 1980: 5, 1981: 6, 1982: 11, 1983: 25, 1984: 16, 1985: 4, 1986: 5, 1987: 5, 1988: 11, 1989: 15, 1990: 8, 1991: 2, 1992: 4, 1993: 7, 1994: 8, 1995: 10, 1996: 14, 1997: 17, 1998: 21, 1999: 25, 2000: 42, 2001: 54, 2002: 64, 2003: 44, 2004: 73, 2005: 92, 2006: 88, 2007: 100, 2008: 122, 2009: 161, 2010: 106, 2011: 96, 2012: 57, 2013: 47, 2014: 51, 2015: 42, 2016: 29, 2017: 10, 2018: 14, 2019: 6, 2020: 1}\n",
      "\n",
      "\n",
      "Sega {1982: 2, 1983: 11, 1984: 2, 1985: 4, 1986: 26, 1987: 31, 1988: 50, 1989: 47, 1990: 45, 1991: 85, 1992: 80, 1993: 115, 1994: 106, 1995: 108, 1996: 74, 1997: 48, 1998: 36, 1999: 39, 2000: 64, 2001: 46, 2002: 60, 2003: 39, 2004: 60, 2005: 66, 2006: 89, 2007: 115, 2008: 107, 2009: 97, 2010: 115, 2011: 90, 2012: 43, 2013: 36, 2014: 39, 2015: 18, 2016: 16, 2017: 27, 2018: 26, 2019: 18, 2020: 5}\n",
      "\n",
      "\n",
      "Sony Computer Entertainment {1994: 4, 1995: 18, 1996: 37, 1997: 38, 1998: 34, 1999: 39, 2000: 41, 2001: 32, 2002: 39, 2003: 43, 2004: 26, 2005: 60, 2006: 78, 2007: 105, 2008: 124, 2009: 184, 2010: 168, 2011: 100, 2012: 41, 2013: 43, 2014: 46, 2015: 37, 2016: 14, 2019: 1, 2020: 2}\n",
      "\n",
      "\n",
      "Electronic Arts {1984: 1, 1985: 1, 1986: 3, 1988: 3, 1989: 5, 1990: 10, 1991: 20, 1992: 21, 1993: 35, 1994: 34, 1995: 31, 1996: 33, 1997: 29, 1998: 24, 1999: 32, 2000: 29, 2001: 30, 2002: 58, 2003: 62, 2004: 54, 2005: 69, 2006: 59, 2007: 102, 2008: 118, 2009: 175, 2010: 156, 2011: 124, 2012: 32, 2013: 26, 2014: 26, 2015: 21, 2016: 23, 2017: 12, 2018: 27, 2019: 9, 2020: 3}\n",
      "\n",
      "\n",
      "Ubisoft {1970: 1, 1989: 1, 1990: 2, 1991: 2, 1992: 2, 1993: 7, 1994: 2, 1995: 4, 1996: 5, 1997: 4, 1998: 7, 1999: 20, 2000: 42, 2001: 46, 2002: 84, 2003: 68, 2004: 43, 2005: 74, 2006: 86, 2007: 117, 2008: 131, 2009: 161, 2010: 121, 2011: 129, 2012: 56, 2013: 59, 2014: 71, 2015: 42, 2016: 49, 2017: 27, 2018: 34, 2019: 17, 2020: 5}\n",
      "\n",
      "\n",
      "Konami {1981: 1, 1982: 1, 1983: 1, 1985: 1, 1986: 5, 1987: 10, 1988: 7, 1989: 7, 1990: 12, 1991: 17, 1992: 29, 1993: 29, 1994: 25, 1995: 21, 1996: 36, 1997: 34, 1998: 52, 1999: 59, 2000: 81, 2001: 90, 2002: 118, 2003: 108, 2004: 83, 2005: 77, 2006: 92, 2007: 96, 2008: 96, 2009: 104, 2010: 118, 2011: 66, 2012: 9, 2013: 1, 2014: 1, 2018: 7, 2019: 1}\n",
      "\n",
      "\n",
      "Microsoft {1981: 1, 1993: 1, 1994: 2, 1995: 3, 1996: 7, 1997: 3, 1998: 6, 1999: 10, 2000: 10, 2001: 14, 2002: 9, 2003: 5, 2004: 6, 2005: 7, 2006: 6, 2007: 13, 2008: 124, 2009: 659, 2010: 146, 2011: 232, 2012: 2, 2013: 1}\n",
      "\n",
      "\n",
      "THQ {1991: 8, 1992: 19, 1993: 13, 1994: 2, 1995: 3, 1996: 6, 1997: 11, 1998: 24, 1999: 19, 2000: 35, 2001: 56, 2002: 71, 2003: 81, 2004: 61, 2005: 88, 2006: 91, 2007: 96, 2008: 82, 2009: 99, 2010: 78, 2011: 108, 2012: 11, 2013: 2, 2020: 1}\n",
      "\n",
      "\n"
     ]
    }
   ],
   "source": [
    "# sort each publisher's year\n",
    "for publisher in df_dict:\n",
    "    new_dict = sorted(df_dict[publisher].items(), key=lambda kv: kv[0])\n",
    "    df_dict[publisher] = dict(new_dict)\n",
    "\n",
    "    \n",
    "for k in df_dict:\n",
    "    print(k, df_dict[k])\n",
    "    print(\"\\n\")\n",
    "    "
   ]
  },
  {
   "cell_type": "code",
   "execution_count": 18,
   "metadata": {},
   "outputs": [
    {
     "data": {
      "image/png": "[encoded data removed]",
      "text/plain": [
       "<Figure size 864x504 with 1 Axes>"
      ]
     },
     "metadata": {
      "needs_background": "light"
     },
     "output_type": "display_data"
    }
   ],
   "source": [
    "fig, ax = plt.subplots(figsize=(12, 7))\n",
    "\n",
    "for publisher in df_dict:\n",
    "    years = []\n",
    "    counts = []\n",
    "    for k in df_dict[publisher]:\n",
    "#         print(k)\n",
    "        years.append(k)\n",
    "        counts.append(df_dict[publisher][k])\n",
    "        \n",
    "        \n",
    "    ax.plot(years, counts, label=publisher)\n",
    "    \n",
    "\n",
    "# for temp in range(len(pdf)):\n",
    "#     pdf\n",
    "#     dat = data[data['template']==temp]\n",
    "#     dates =  dat['date']\n",
    "#     dates_f = [dt.datetime.strptime(date,'%Y%m%d') for date in dates]\n",
    "#     ax.plot(dates_f, dat['score'], label = pdf[temp])\n",
    "    \n",
    "# ax.plot(df1['Publisher'], df1['Year'])\n",
    "    \n",
    "\n",
    "plt.xlabel(\"Year\")\n",
    "plt.ylabel(\"Published Counts\")\n",
    "plt.title(\"Number of publishes\")\n",
    "ax.legend()\n",
    "plt.show()"
   ]
  },
  {
   "cell_type": "code",
   "execution_count": 13,
   "metadata": {},
   "outputs": [
    {
     "data": {
      "text/html": [
       "<div>\n",
       "<style scoped>\n",
       "    .dataframe tbody tr th:only-of-type {\n",
       "        vertical-align: middle;\n",
       "    }\n",
       "\n",
       "    .dataframe tbody tr th {\n",
       "        vertical-align: top;\n",
       "    }\n",
       "\n",
       "    .dataframe thead th {\n",
       "        text-align: right;\n",
       "    }\n",
       "</style>\n",
       "<table border=\"1\" class=\"dataframe\">\n",
       "  <thead>\n",
       "    <tr style=\"text-align: right;\">\n",
       "      <th></th>\n",
       "      <th>Year</th>\n",
       "    </tr>\n",
       "    <tr>\n",
       "      <th>Publisher</th>\n",
       "      <th></th>\n",
       "    </tr>\n",
       "  </thead>\n",
       "  <tbody>\n",
       "    <tr>\n",
       "      <th>100 Gates</th>\n",
       "      <td>2</td>\n",
       "    </tr>\n",
       "    <tr>\n",
       "      <th>10TACLE Studios</th>\n",
       "      <td>6</td>\n",
       "    </tr>\n",
       "    <tr>\n",
       "      <th>10tons</th>\n",
       "      <td>7</td>\n",
       "    </tr>\n",
       "    <tr>\n",
       "      <th>10tons Ltd</th>\n",
       "      <td>32</td>\n",
       "    </tr>\n",
       "    <tr>\n",
       "      <th>11 bit studios</th>\n",
       "      <td>30</td>\n",
       "    </tr>\n",
       "    <tr>\n",
       "      <th>...</th>\n",
       "      <td>...</td>\n",
       "    </tr>\n",
       "    <tr>\n",
       "      <th>tono / Ctrl+k</th>\n",
       "      <td>1</td>\n",
       "    </tr>\n",
       "    <tr>\n",
       "      <th>tri-Ace</th>\n",
       "      <td>1</td>\n",
       "    </tr>\n",
       "    <tr>\n",
       "      <th>uClick</th>\n",
       "      <td>2</td>\n",
       "    </tr>\n",
       "    <tr>\n",
       "      <th>wooga</th>\n",
       "      <td>4</td>\n",
       "    </tr>\n",
       "    <tr>\n",
       "      <th>yeo</th>\n",
       "      <td>1</td>\n",
       "    </tr>\n",
       "  </tbody>\n",
       "</table>\n",
       "<p>3069 rows × 1 columns</p>\n",
       "</div>"
      ],
      "text/plain": [
       "                 Year\n",
       "Publisher            \n",
       "100 Gates           2\n",
       "10TACLE Studios     6\n",
       "10tons              7\n",
       "10tons Ltd         32\n",
       "11 bit studios     30\n",
       "...               ...\n",
       "tono / Ctrl+k       1\n",
       "tri-Ace             1\n",
       "uClick              2\n",
       "wooga               4\n",
       "yeo                 1\n",
       "\n",
       "[3069 rows x 1 columns]"
      ]
     },
     "execution_count": 13,
     "metadata": {},
     "output_type": "execute_result"
    }
   ],
   "source": [
    "pdf = df1.groupby(\"Publisher\").count()\n",
    "pdf"
   ]
  },
  {
   "cell_type": "code",
   "execution_count": 14,
   "metadata": {},
   "outputs": [
    {
     "data": {
      "text/plain": [
       "array([[2],\n",
       "       [6],\n",
       "       [7],\n",
       "       ...,\n",
       "       [2],\n",
       "       [4],\n",
       "       [1]])"
      ]
     },
     "execution_count": 14,
     "metadata": {},
     "output_type": "execute_result"
    }
   ],
   "source": [
    "df3 = pdf.to_numpy()\n",
    "df3"
   ]
  }
 ],
 "metadata": {
  "kernelspec": {
   "display_name": "Python 3",
   "language": "python",
   "name": "python3"
  },
  "language_info": {
   "codemirror_mode": {
    "name": "ipython",
    "version": 3
   },
   "file_extension": ".py",
   "mimetype": "text/x-python",
   "name": "python",
   "nbconvert_exporter": "python",
   "pygments_lexer": "ipython3",
   "version": "3.7.6"
  }
 },
 "nbformat": 4,
 "nbformat_minor": 4
}
